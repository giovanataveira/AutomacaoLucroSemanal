{
 "cells": [
  {
   "cell_type": "code",
   "execution_count": 30,
   "id": "e3876e5a",
   "metadata": {},
   "outputs": [
    {
     "name": "stdout",
     "output_type": "stream",
     "text": [
      "972\n",
      "208.59\n",
      "763.41\n"
     ]
    }
   ],
   "source": [
    "import pyautogui\n",
    "import pyperclip\n",
    "pyautogui.PAUSE = 1\n",
    "\n",
    "#Abrir o documento com o Panda\n",
    "import pandas as pd\n",
    "tabela = pd.read_excel(r'C:\\Users\\Usuario\\Downloads\\Untitled Folder\\1sem-Fev-2020.xlsx')\n",
    "#display(tabela)\n",
    "                       \n",
    "#Selecionar as colunas com o faturamento e Correios\n",
    "\n",
    "Entrada = tabela ['preço'].sum()\n",
    "Saída = tabela ['Correios'].sum()\n",
    "\n",
    "print(Entrada)\n",
    "print(Saída)\n",
    "\n",
    "#Fazer a subtração das quantias\n",
    "\n",
    "print(Entrada - Saída)\n",
    "\n",
    "#Enviar um e-mail com o lucro Semanal\n",
    "pyautogui.hotkey('ctrl', 't')\n",
    "link = 'mail.google.com'\n",
    "pyperclip.copy(link)\n",
    "pyautogui.hotkey('ctrl','v')\n",
    "pyautogui.press('enter')\n",
    "\n",
    "#escrever o e-mail\n",
    "time.sleep(5)\n",
    "pyautogui.click(x=109, y=171)\n",
    "pyautogui.write('giovanataveira@hotmail.com')\n",
    "pyautogui.press('tab')\n",
    "pyautogui.press('tab')\n",
    "\n",
    "assunto = 'Vendas da Semana'\n",
    "pyperclip.copy(assunto)\n",
    "pyautogui.hotkey('ctrl','v')\n",
    "pyautogui.press('tab')\n",
    "\n",
    "texto = f\"\"\" \n",
    "Olá, como vai?\n",
    "O faturamento total da semana foi de R$ {Entrada}\n",
    "Os gastos da semana foi R$ {Saída}\n",
    "O total é de R$ {Entrada - Saída}\n",
    "\n",
    "Abs\n",
    "Vela Literária\"\"\"\n",
    "pyperclip.copy(texto)\n",
    "pyautogui.hotkey('ctrl','v')\n",
    "\n",
    "\n"
   ]
  },
  {
   "cell_type": "code",
   "execution_count": 26,
   "id": "2384e150",
   "metadata": {},
   "outputs": [
    {
     "data": {
      "text/plain": [
       "Point(x=502, y=281)"
      ]
     },
     "execution_count": 26,
     "metadata": {},
     "output_type": "execute_result"
    }
   ],
   "source": [
    "import time\n",
    "time.sleep(5)\n",
    "pyautogui.position()"
   ]
  },
  {
   "cell_type": "code",
   "execution_count": null,
   "id": "0d19163b",
   "metadata": {},
   "outputs": [],
   "source": []
  }
 ],
 "metadata": {
  "kernelspec": {
   "display_name": "Python 3",
   "language": "python",
   "name": "python3"
  },
  "language_info": {
   "codemirror_mode": {
    "name": "ipython",
    "version": 3
   },
   "file_extension": ".py",
   "mimetype": "text/x-python",
   "name": "python",
   "nbconvert_exporter": "python",
   "pygments_lexer": "ipython3",
   "version": "3.8.8"
  }
 },
 "nbformat": 4,
 "nbformat_minor": 5
}
