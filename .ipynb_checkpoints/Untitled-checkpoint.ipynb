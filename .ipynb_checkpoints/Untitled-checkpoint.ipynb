{
 "cells": [
  {
   "cell_type": "code",
   "execution_count": 2,
   "id": "e3876e5a",
   "metadata": {},
   "outputs": [],
   "source": [
    "import pyautogui\n",
    "import pyperclip\n",
    "pyautogui.PAUSE = 1\n",
    "\n",
    "#Abrir o documento com o Panda\n",
    "import pandas as pd\n",
    "tabela = \n",
    "\n",
    "#Selecionar as colunas com o faturamento e Correios\n",
    "\n",
    "#Fazer a subtração das quantias\n",
    "\n",
    "#Enviar um e-mail com o lucro Semanal"
   ]
  },
  {
   "cell_type": "code",
   "execution_count": null,
   "id": "2384e150",
   "metadata": {},
   "outputs": [],
   "source": []
  },
  {
   "cell_type": "code",
   "execution_count": null,
   "id": "0d19163b",
   "metadata": {},
   "outputs": [],
   "source": []
  }
 ],
 "metadata": {
  "kernelspec": {
   "display_name": "Python 3",
   "language": "python",
   "name": "python3"
  },
  "language_info": {
   "codemirror_mode": {
    "name": "ipython",
    "version": 3
   },
   "file_extension": ".py",
   "mimetype": "text/x-python",
   "name": "python",
   "nbconvert_exporter": "python",
   "pygments_lexer": "ipython3",
   "version": "3.8.8"
  }
 },
 "nbformat": 4,
 "nbformat_minor": 5
}
